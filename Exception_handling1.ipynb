{
 "cells": [
  {
   "cell_type": "code",
   "execution_count": 1,
   "id": "93ef017e-7fac-40b8-a46e-e15f67698358",
   "metadata": {},
   "outputs": [],
   "source": [
    "# Q.1\n",
    "\n"
   ]
  },
  {
   "cell_type": "code",
   "execution_count": null,
   "id": "a5121f3d-95fa-4541-9501-464e1c9f30d5",
   "metadata": {},
   "outputs": [],
   "source": [
    "\"\"\".An exception is a runtime error that occurs during \n",
    "program execution and can be handled using try and except blocks.\n",
    "\n",
    ".A syntax error is a mistake in the code's structure that is detected by the Python interpreter \n",
    "before the program starts running, and it prevents the program from executing.\"\"\""
   ]
  },
  {
   "cell_type": "code",
   "execution_count": 2,
   "id": "2e392482-1cbb-4d94-8734-37ddf2af4d25",
   "metadata": {},
   "outputs": [],
   "source": [
    "# Q .2\n",
    "\n"
   ]
  },
  {
   "cell_type": "code",
   "execution_count": 3,
   "id": "21bbbae6-ab2e-4c56-a4ea-08bde22e1fa4",
   "metadata": {},
   "outputs": [
    {
     "data": {
      "text/plain": [
       "'When an exception is not handled, it can lead to the program crashing or displaying undefined behavior.\\nAn unhandled exception disrupts the normal flow of a program and can result in error messages or termination.\\nFor example, if you attempt to divide by zero without handling the exception, the program may crash, \\nand the user will see an error message.'"
      ]
     },
     "execution_count": 3,
     "metadata": {},
     "output_type": "execute_result"
    }
   ],
   "source": [
    "\"\"\"When an exception is not handled, it can lead to the program crashing or displaying undefined behavior.\n",
    "An unhandled exception disrupts the normal flow of a program and can result in error messages or termination.\n",
    "For example, if you attempt to divide by zero without handling the exception, the program may crash, \n",
    "and the user will see an error message.\"\"\""
   ]
  },
  {
   "cell_type": "code",
   "execution_count": 4,
   "id": "d9a10791-ef02-4e7d-b1e6-068bcb1359d6",
   "metadata": {},
   "outputs": [
    {
     "ename": "ZeroDivisionError",
     "evalue": "division by zero",
     "output_type": "error",
     "traceback": [
      "\u001b[0;31m---------------------------------------------------------------------------\u001b[0m",
      "\u001b[0;31mZeroDivisionError\u001b[0m                         Traceback (most recent call last)",
      "Cell \u001b[0;32mIn[4], line 5\u001b[0m\n\u001b[1;32m      2\u001b[0m numerator \u001b[38;5;241m=\u001b[39m \u001b[38;5;241m15\u001b[39m\n\u001b[1;32m      3\u001b[0m denominator \u001b[38;5;241m=\u001b[39m \u001b[38;5;241m0\u001b[39m\n\u001b[0;32m----> 5\u001b[0m result \u001b[38;5;241m=\u001b[39m \u001b[43mnumerator\u001b[49m\u001b[43m \u001b[49m\u001b[38;5;241;43m/\u001b[39;49m\u001b[43m \u001b[49m\u001b[43mdenominator\u001b[49m\n\u001b[1;32m      6\u001b[0m \u001b[38;5;28mprint\u001b[39m(\u001b[38;5;124m\"\u001b[39m\u001b[38;5;124mresult\u001b[39m\u001b[38;5;124m\"\u001b[39m , result)\n",
      "\u001b[0;31mZeroDivisionError\u001b[0m: division by zero"
     ]
    }
   ],
   "source": [
    "# Example without exception handling\n",
    "numerator = 15\n",
    "denominator = 0\n",
    "\n",
    "result = numerator / denominator\n",
    "print(\"result\" , result)"
   ]
  },
  {
   "cell_type": "code",
   "execution_count": 9,
   "id": "bdfb3442-98e6-4725-80c4-3e4659fcc3be",
   "metadata": {},
   "outputs": [
    {
     "name": "stdout",
     "output_type": "stream",
     "text": [
      "Error : division by zero\n"
     ]
    }
   ],
   "source": [
    "# but we handle this error using exception handling\n",
    "\n",
    "# using exception\n",
    "\n",
    "numerator = 15\n",
    "denominator = 0\n",
    "\n",
    "try :\n",
    "    result = numerator / denominator\n",
    "    print(\"result\", result)\n",
    "    \n",
    "except ZeroDivisionError as e :\n",
    "    \n",
    "    print(\"Error :\" , e)"
   ]
  },
  {
   "cell_type": "code",
   "execution_count": 10,
   "id": "f438bcd1-cd00-424e-82d6-d36a9aa5ce66",
   "metadata": {},
   "outputs": [],
   "source": [
    "# Q .3\n",
    "\n"
   ]
  },
  {
   "cell_type": "code",
   "execution_count": null,
   "id": "314e31f3-819c-44bc-a4a3-8704d1fa78b2",
   "metadata": {},
   "outputs": [],
   "source": [
    "\"\"\" the try & except  statment are use to catch & handld exception\"\"\""
   ]
  },
  {
   "cell_type": "code",
   "execution_count": 16,
   "id": "4192b1be-c0d6-4f4c-966b-1d2f4fe454f1",
   "metadata": {},
   "outputs": [
    {
     "name": "stdin",
     "output_type": "stream",
     "text": [
      "Enter your first number :  23\n",
      "Enter your second number :  0\n"
     ]
    },
    {
     "name": "stdout",
     "output_type": "stream",
     "text": [
      "division by zero  : you cannot devide by zero\n",
      "finally code run successfully & finally block run in an any condition\n"
     ]
    }
   ],
   "source": [
    "try :\n",
    "    num1 = int(input(\"Enter your first number : \"))\n",
    "    num2 = int(input(\"Enter your second number : \"))\n",
    "    \n",
    "    result = num1  / num2\n",
    "    print(\"result : \" , result)\n",
    "    \n",
    "except ZeroDivisionError as e :\n",
    "    print(e , \" : you cannot devide by zero\")\n",
    "    \n",
    "except ValueError as e :\n",
    "    print(e , \" : please enter a valid number\")\n",
    "    \n",
    "except Exception as e :\n",
    "    print(e , \" ; unexpcted error occured\")\n",
    "    \n",
    "else :\n",
    "    print(\" : NO exception were raised\")\n",
    "    \n",
    "finally :\n",
    "    print(\"finally code run successfully & finally block run in an any condition\")\n",
    "    \n",
    "                     \n",
    "                     "
   ]
  },
  {
   "cell_type": "code",
   "execution_count": null,
   "id": "7928e3a4-d3cd-4f5f-9eaa-34bbb6f2b4eb",
   "metadata": {},
   "outputs": [],
   "source": [
    "# Q .4\n",
    "\n",
    "# a)\n",
    "'''the try block is used to enclose code that might raise exceptions. If an exception occurs within the try block,\n",
    "the program jumps to the corresponding except block to handle the exception.\n",
    "\n",
    "The else block, if present, is executed only if no exceptions occur in the try block. \n",
    "It allows you to define code that should run when there are no exceptions.'''"
   ]
  },
  {
   "cell_type": "code",
   "execution_count": 20,
   "id": "3e2bdfd5-4fb6-41c1-9da3-69b270894dc9",
   "metadata": {},
   "outputs": [
    {
     "name": "stdin",
     "output_type": "stream",
     "text": [
      "Enter your first number :  20\n",
      "Enter your second number :  27\n"
     ]
    },
    {
     "name": "stdout",
     "output_type": "stream",
     "text": [
      "Result of division is  : 0.7407407407407407\n"
     ]
    }
   ],
   "source": [
    "# example\n",
    "try :\n",
    "    num1 = int(input(\"Enter your first number : \"))\n",
    "    num2 = int(input(\"Enter your second number : \"))\n",
    "    \n",
    "    result = num1  / num2\n",
    "except ZeroDivisionError as e :\n",
    "    print(\" ERROR : Division by zero is not allowd\")\n",
    "    \n",
    "else :\n",
    "    print(f\"Result of division is  : {result}\")\n",
    "\n",
    "\n"
   ]
  },
  {
   "cell_type": "code",
   "execution_count": 21,
   "id": "edaad0a3-71bb-454e-85d7-31b072a42e9e",
   "metadata": {},
   "outputs": [],
   "source": [
    "# b )\n",
    "\n"
   ]
  },
  {
   "cell_type": "code",
   "execution_count": null,
   "id": "f35dd6e4-21c1-4958-8051-4cc3f600b84b",
   "metadata": {},
   "outputs": [],
   "source": [
    "\"\"\"A \"finally\" block in programming is a section of code that always runs, \n",
    "whether or not an exception occurs in a preceding \"try\" block.\n",
    "It's used for cleanup tasks or actions that must be performed under all circumstances.\n",
    "\"\"\""
   ]
  },
  {
   "cell_type": "code",
   "execution_count": 3,
   "id": "174d63f5-a17a-41cd-ad63-f65a5b9fa9ee",
   "metadata": {},
   "outputs": [
    {
     "name": "stdout",
     "output_type": "stream",
     "text": [
      "A division by zero error occurred\n",
      "This block will always execute, regardless of exceptions\n"
     ]
    }
   ],
   "source": [
    "#Example\n",
    "try:\n",
    "    # Code that may raise an exception\n",
    "    x = 10 / 0\n",
    "except ZeroDivisionError:\n",
    "    print(\"A division by zero error occurred\")\n",
    "finally:\n",
    "    print(\"This block will always execute, regardless of exceptions\")\n"
   ]
  },
  {
   "cell_type": "code",
   "execution_count": 2,
   "id": "ba7b53eb-a4cd-4679-be3e-d05d71ab0325",
   "metadata": {},
   "outputs": [],
   "source": [
    "# c)"
   ]
  },
  {
   "cell_type": "code",
   "execution_count": null,
   "id": "855c61c1-c9b9-4118-b0b8-0d23243803ef",
   "metadata": {},
   "outputs": [],
   "source": [
    "\"\"\"\"Raise\" in Python is a keyword used to generate and trigger exceptions manually, \n",
    "allowing programmers to define and handle custom error conditions in their code.\"\"\""
   ]
  },
  {
   "cell_type": "code",
   "execution_count": 7,
   "id": "5c5211f8-ae9f-40cf-a343-bc49b3e3b144",
   "metadata": {},
   "outputs": [],
   "source": [
    "#Example\n",
    "\n",
    "def divide(x , y) :\n",
    "    if y == 0 :\n",
    "        raise ZeroDivisionError(\"this cannot be divided by zero\")\n",
    "        \n",
    "    return x / y"
   ]
  },
  {
   "cell_type": "code",
   "execution_count": 8,
   "id": "4d2f5902-2744-456d-97f1-e67308dbf7d5",
   "metadata": {},
   "outputs": [
    {
     "name": "stdout",
     "output_type": "stream",
     "text": [
      "Error : this cannot be divided by zero\n"
     ]
    }
   ],
   "source": [
    "try :\n",
    "    result = divide(20 , 0)\n",
    "except ZeroDivisionError as e :\n",
    "    print(\"Error :\" , e)\n",
    "else :\n",
    "    print(\"Result :\" , result)"
   ]
  },
  {
   "cell_type": "code",
   "execution_count": 9,
   "id": "0834f291-7444-4563-a545-6d12bb0312da",
   "metadata": {},
   "outputs": [
    {
     "name": "stdout",
     "output_type": "stream",
     "text": [
      "Result : 4.0\n"
     ]
    }
   ],
   "source": [
    "try :\n",
    "    result = divide(20 , 5)\n",
    "except ZeroDivisionError as e :\n",
    "    print(\"Error :\" , e)\n",
    "else :\n",
    "    print(\"Result :\" , result)"
   ]
  },
  {
   "cell_type": "code",
   "execution_count": 10,
   "id": "c1c457cc-3c4e-4142-b44d-74ab401f3b18",
   "metadata": {},
   "outputs": [],
   "source": [
    "# Q.5\n",
    "\n"
   ]
  },
  {
   "cell_type": "code",
   "execution_count": null,
   "id": "5d5b8bf8-1700-4825-89ab-124449eb0e7c",
   "metadata": {},
   "outputs": [],
   "source": [
    "# what are coustem exception\n",
    "\"\"\"Custom exceptions in Python are user-defined exception classes. Programmers create them by inheriting \n",
    "from the base Exception class, tailoring error messages and behavior for specific error conditions.\"\"\""
   ]
  },
  {
   "cell_type": "code",
   "execution_count": null,
   "id": "63a690d0-1e45-4d26-9d3e-b1cc4557d906",
   "metadata": {},
   "outputs": [],
   "source": [
    "# why do we  need coustem exception\n",
    "\"\"\"Custom exceptions in Python are needed to handle specific error cases, provide clear error messages, \n",
    "and tailor exception handling for unique situations, improving code readability and maintainability.\"\"\""
   ]
  },
  {
   "cell_type": "code",
   "execution_count": 22,
   "id": "a7f2c9a5-ff25-42cf-a98c-0f25ac4d5b16",
   "metadata": {},
   "outputs": [],
   "source": [
    "# Example\n",
    "\n",
    "class ValueTooHighError(Exception):\n",
    "    def __init__(self,  message):\n",
    "        self.message = message"
   ]
  },
  {
   "cell_type": "code",
   "execution_count": 20,
   "id": "07324f94-ebd1-4096-957b-4c97b22d456a",
   "metadata": {},
   "outputs": [],
   "source": [
    "def check_value(value, max_value):\n",
    "    if value > max_value:\n",
    "        raise ValueTooHighError(f\"Value {value} is too high. Maximum allowed is {max_value}.\")"
   ]
  },
  {
   "cell_type": "code",
   "execution_count": 23,
   "id": "0bdfaa34-aa6f-41d2-a448-ca4795d3a90c",
   "metadata": {},
   "outputs": [
    {
     "name": "stdout",
     "output_type": "stream",
     "text": [
      "Error: Value 100 is too high. Maximum allowed is 50.\n"
     ]
    }
   ],
   "source": [
    "try:\n",
    "     check_value(100, 50)\n",
    "except ValueTooHighError as e:\n",
    "    print(\"Error:\", e)\n"
   ]
  },
  {
   "cell_type": "code",
   "execution_count": 24,
   "id": "b0b075c4-1977-4586-9073-1b9f566db2f4",
   "metadata": {},
   "outputs": [],
   "source": [
    "# Q .6 )\n",
    "\n"
   ]
  },
  {
   "cell_type": "code",
   "execution_count": 62,
   "id": "f57d4245-9b5a-44fb-a7bb-772f5f29eeac",
   "metadata": {},
   "outputs": [],
   "source": [
    "class PasswordTooWeakError(Exception):\n",
    "    def __init__(self,  message):\n",
    "        self.message = message\n"
   ]
  },
  {
   "cell_type": "code",
   "execution_count": null,
   "id": "92dfd721-7a64-46c7-8c13-0c09349fbe7c",
   "metadata": {},
   "outputs": [],
   "source": [
    "def check_password_strength(password):\n",
    "    if len(password) < 8 or not any(char.isdigit() for char in password) or not any(char.isalpha() for char in password) or password.isalnum():\n",
    "        raise PasswordTooWeakError(f\"Password '{password}' is too weak. It should be at least 8 characters long and contain special characters.\")\n"
   ]
  },
  {
   "cell_type": "code",
   "execution_count": 63,
   "id": "9bf128b8-ae91-461e-9b6d-169bbb6dacd8",
   "metadata": {},
   "outputs": [
    {
     "name": "stdin",
     "output_type": "stream",
     "text": [
      "Enter your password:  mokarim\n"
     ]
    },
    {
     "name": "stdout",
     "output_type": "stream",
     "text": [
      "Error: Password 'mokarim' is too weak. It should be at least 8 characters long and contain special characters.\n"
     ]
    }
   ],
   "source": [
    "try:\n",
    "    user_password = input(\"Enter your password: \")\n",
    "    check_password_strength(user_password)\n",
    "    print(\"Password is strong.\")\n",
    "except PasswordTooWeakError as e:\n",
    "    print(\"Error:\", e)\n"
   ]
  },
  {
   "cell_type": "code",
   "execution_count": null,
   "id": "4da4055c-5f73-4ab1-aed6-63a341ef1b70",
   "metadata": {},
   "outputs": [],
   "source": []
  }
 ],
 "metadata": {
  "kernelspec": {
   "display_name": "Python 3 (ipykernel)",
   "language": "python",
   "name": "python3"
  },
  "language_info": {
   "codemirror_mode": {
    "name": "ipython",
    "version": 3
   },
   "file_extension": ".py",
   "mimetype": "text/x-python",
   "name": "python",
   "nbconvert_exporter": "python",
   "pygments_lexer": "ipython3",
   "version": "3.10.8"
  }
 },
 "nbformat": 4,
 "nbformat_minor": 5
}
